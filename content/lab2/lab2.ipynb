{
 "cells": [
  {
   "attachments": {},
   "cell_type": "markdown",
   "metadata": {},
   "source": [
    "# Lab 2 - Creating Entanglement with Qiskit\n",
    "\n",
    "This lab demonstrates interesting properties of *entangled* qubits. In particular, we will consider two experiments:\n",
    "- **CHSH Inequality Violation** - this shows that quantum mechanics *cannot* be explained by a local hidden variable theory\n",
    "- **Teleportation** - teleport an arbitrary quantum state using an entangled qubit pair as a resource\n",
    "\n",
    "In particular, this lab demonstrates how to use new features from IBM Quantum \n",
    "- **Primitives** - abstract measurement and error mitigation for scalable quantum computing\n",
    "- **Dynamic Circuits** - mid-circuit measurement and feed-forward within the qubits' coherence time"
   ]
  },
  {
   "attachments": {},
   "cell_type": "markdown",
   "metadata": {},
   "source": []
  },
  {
   "attachments": {},
   "cell_type": "markdown",
   "metadata": {},
   "source": []
  },
  {
   "attachments": {},
   "cell_type": "markdown",
   "metadata": {},
   "source": [
    "## Getting Started\n",
    "\n",
    "This lab requires a Qiskit Runtime service instance. If you haven't done so already, follow the instructions in the Qiskit [Getting started guide](https://qiskit.org/documentation/partners/qiskit_ibm_runtime/getting_started.html) to set one up. TODO: include video links and such.\n",
    "\n",
    "Start by importing some libraries we need, including the `Sampler` and `Estimator` primitives from Qiskit Runtime. Then create your Qiskit Runtime service instance and load the `ibmq_qasm_simulator` as the backend."
   ]
  },
  {
   "cell_type": "code",
   "execution_count": 1,
   "metadata": {},
   "outputs": [],
   "source": [
    "from qiskit.circuit import QuantumCircuit\n",
    "from qiskit.quantum_info import Operator, SparsePauliOp\n",
    "from qiskit.visualization import plot_histogram\n",
    "from qiskit_ibm_runtime import Estimator, QiskitRuntimeService, Sampler, Session"
   ]
  },
  {
   "cell_type": "code",
   "execution_count": 2,
   "metadata": {},
   "outputs": [],
   "source": [
    "service = QiskitRuntimeService()\n",
    "backend = service.get_backend('ibmq_qasm_simulator')"
   ]
  },
  {
   "attachments": {},
   "cell_type": "markdown",
   "metadata": {},
   "source": [
    "## CHSH Inequality Violation\n",
    "\n",
    "### Warm Up\n",
    "\n",
    "Create circuits that put the qubit in the excited $|1\\rangle$ and superposition $|+\\rangle$ states, respectivly, and measure them in different bases. This is done first with the `Sampler` primitive (which is most similar to the `backend.run()` used in the previous lab), and then with the `Estimator` primitive to show how measurement is abstracted in that we do not need to worry about rotating the qubit into the appropriate measurement basis. The primitives will be executed withing the `Session` context which allows efficiency to optimize workloads."
   ]
  },
  {
   "cell_type": "code",
   "execution_count": 3,
   "metadata": {},
   "outputs": [
    {
     "data": {
      "image/png": "[encoded data removed]",
      "text/plain": [
       "<Figure size 185.453x117.056 with 1 Axes>"
      ]
     },
     "execution_count": 3,
     "metadata": {},
     "output_type": "execute_result"
    }
   ],
   "source": [
    "# create excited |1> state\n",
    "qc_1 = QuantumCircuit(1)\n",
    "qc_1.x(0)\n",
    "qc_1.draw('mpl')\n"
   ]
  },
  {
   "cell_type": "code",
   "execution_count": 4,
   "metadata": {},
   "outputs": [
    {
     "data": {
      "image/png": "[encoded data removed]",
      "text/plain": [
       "<Figure size 185.453x117.056 with 1 Axes>"
      ]
     },
     "execution_count": 4,
     "metadata": {},
     "output_type": "execute_result"
    }
   ],
   "source": [
    "# create superposition |+> state\n",
    "qc_plus = QuantumCircuit(1)\n",
    "qc_plus.h(0)\n",
    "qc_plus.draw('mpl')"
   ]
  },
  {
   "attachments": {},
   "cell_type": "markdown",
   "metadata": {},
   "source": [
    "### Sampler Primitive\n",
    "\n",
    "First use the `Sampler` to measure qubits in the $Z$-basis (the physical basis in which qubits are measured). The `Sampler` will count the number of outcomes of the $|0\\rangle$ state and $|1\\rangle$ state, normalized by the number of shots (experiments performed). The `Sampler` also offers the ability to easily perform error mitigation (which is covered in Lab 5), which modifies this calculation, and hence the outcomes are refered to as *quasi-probabilities*.\n",
    "\n",
    "Measurments must be present in the circuit when using the `Sampler` primitive. Then the `Session` context is opened, the `Sampler` is instantiated, and `sampler.run()` is used to send the circuits to the backend, similar to the `backend.run()` syntax you may already be familiar with."
   ]
  },
  {
   "cell_type": "code",
   "execution_count": 5,
   "metadata": {},
   "outputs": [],
   "source": [
    "qc_1.measure_all()\n",
    "qc_plus.measure_all()\n",
    "with Session(service=service, backend=backend) as session:\n",
    "    sampler = Sampler()\n",
    "    job_1 = sampler.run(qc_1)\n",
    "    job_plus = sampler.run(qc_plus)"
   ]
  },
  {
   "cell_type": "code",
   "execution_count": 6,
   "metadata": {},
   "outputs": [
    {
     "data": {
      "text/plain": [
       "[{1: 1.0}]"
      ]
     },
     "execution_count": 6,
     "metadata": {},
     "output_type": "execute_result"
    }
   ],
   "source": [
    "job_1.result().quasi_dists"
   ]
  },
  {
   "cell_type": "code",
   "execution_count": 7,
   "metadata": {},
   "outputs": [
    {
     "data": {
      "text/plain": [
       "[{0: 0.504, 1: 0.496}]"
      ]
     },
     "execution_count": 7,
     "metadata": {},
     "output_type": "execute_result"
    }
   ],
   "source": [
    "job_plus.result().quasi_dists"
   ]
  },
  {
   "cell_type": "code",
   "execution_count": 8,
   "metadata": {},
   "outputs": [
    {
     "data": {
      "image/png": "[encoded data removed]",
      "text/plain": [
       "<Figure size 700x500 with 1 Axes>"
      ]
     },
     "execution_count": 8,
     "metadata": {},
     "output_type": "execute_result"
    }
   ],
   "source": [
    "legend = [\"Excited State\", \"Plus State\"]\n",
    "plot_histogram([job_1.result().quasi_dists[0], job_plus.result().quasi_dists[0]], legend=legend)"
   ]
  },
  {
   "attachments": {},
   "cell_type": "markdown",
   "metadata": {},
   "source": [
    "The result for the excited state is always $|1\\rangle$ wheres it is roughly half $|0\\rangle$ and half |1\\rangle$ for the plus superposition state. This is because the $|0\\rangle$ and $|1\\rangle$ states are *eigenstates* of the $Z$ operator (with $+1$ and $-1$ eigenvalues, respectively).\n",
    "\n",
    "Let's switch and measure in the $X$ basis. Using the `Sampler` we must rotate the qubit from the $X$-basis to the $Z$-basis for measurement (because that is the only basis we can actually perform measurement in)."
   ]
  },
  {
   "cell_type": "code",
   "execution_count": 9,
   "metadata": {},
   "outputs": [],
   "source": [
    "qc_1.remove_final_measurements()\n",
    "qc_plus.remove_final_measurements()\n",
    "\n",
    "# rotate into the X-basis\n",
    "qc_1.h(0)\n",
    "qc_plus.h(0)\n",
    "\n",
    "qc_1.measure_all()\n",
    "qc_plus.measure_all()"
   ]
  },
  {
   "cell_type": "code",
   "execution_count": 10,
   "metadata": {},
   "outputs": [],
   "source": [
    "with Session(service=service, backend=backend) as session:\n",
    "    sampler = Sampler()\n",
    "    job_1 = sampler.run(qc_1)\n",
    "    job_plus = sampler.run(qc_plus)"
   ]
  },
  {
   "cell_type": "code",
   "execution_count": 11,
   "metadata": {},
   "outputs": [
    {
     "data": {
      "image/png": "[encoded data removed]",
      "text/plain": [
       "<Figure size 700x500 with 1 Axes>"
      ]
     },
     "execution_count": 11,
     "metadata": {},
     "output_type": "execute_result"
    }
   ],
   "source": [
    "plot_histogram([job_1.result().quasi_dists[0], job_plus.result().quasi_dists[0]], legend=legend)"
   ]
  },
  {
   "attachments": {},
   "cell_type": "markdown",
   "metadata": {},
   "source": [
    "Now we see the opposite: the plus superposition always give the 1 result, hence an eigenstate of the $X$ operator, whereas the excited $|1\\rangle$ yields a roughtly fifty-fifty split. The $|+\\rangle$ and $|-\\rangle$ states are eigenstates of the $X$ operator, with eigenvalues $+1$ and $-1$, respectively. This is good to remember when considering how the `Estimator` works in the next subsection. "
   ]
  },
  {
   "attachments": {},
   "cell_type": "markdown",
   "metadata": {},
   "source": [
    "### Estimator Primitive\n",
    "\n",
    "The Qiskit Runtime Primitives allow us to abstract measurement into the `Estimator` primitive, where it is specified as an *observable*. In particular, we can construct the same circuits, the excited $|1\\rangle$ and superposition $|+\\rangle$ as before. However, in the case of the `Estimator`, we *do not* add measurements to the circuit. Instead, specify a list of observables which take the form of Pauli strings. In our case for a measurement of a single qubit, we specify `'Z'` for the $Z$-basis and `'X'` for the $X$-basis."
   ]
  },
  {
   "cell_type": "code",
   "execution_count": 12,
   "metadata": {},
   "outputs": [],
   "source": [
    "qc2_1 = QuantumCircuit(1)\n",
    "qc2_1.x(0)\n",
    "\n",
    "qc2_plus = QuantumCircuit(1)\n",
    "qc2_plus.h(0)\n",
    "\n",
    "obsvs = list(SparsePauliOp(['Z', 'X']))"
   ]
  },
  {
   "cell_type": "code",
   "execution_count": 13,
   "metadata": {},
   "outputs": [],
   "source": [
    "with Session(service=service, backend=backend) as session:\n",
    "    estimator = Estimator()\n",
    "    job2_1 = estimator.run([qc2_1]*len(obsvs), observables=obsvs)\n",
    "    job2_plus = estimator.run([qc2_plus]*len(obsvs), observables=obsvs)"
   ]
  },
  {
   "attachments": {},
   "cell_type": "markdown",
   "metadata": {},
   "source": []
  },
  {
   "cell_type": "code",
   "execution_count": 14,
   "metadata": {},
   "outputs": [
    {
     "data": {
      "text/plain": [
       "EstimatorResult(values=array([-1.    ,  0.0245]), metadata=[{'variance': 0.0, 'shots': 4000}, {'variance': 0.99939975, 'shots': 4000}])"
      ]
     },
     "execution_count": 14,
     "metadata": {},
     "output_type": "execute_result"
    }
   ],
   "source": [
    "job2_1.result()"
   ]
  },
  {
   "cell_type": "code",
   "execution_count": 15,
   "metadata": {},
   "outputs": [
    {
     "name": "stdout",
     "output_type": "stream",
     "text": [
      "    |   <Z>   |   <X> \n",
      "----|------------------\n",
      "|1> | -1.0    | 0.0245\n",
      "|+> | -0.0095 | 1.0\n"
     ]
    }
   ],
   "source": [
    "# TODO: make this into module that outputs a nice table\n",
    "print(f'    |   <Z>   |   <X> ')\n",
    "print(f'----|------------------')\n",
    "print(f'|1> | {job2_1.result().values[0]}    | {job2_1.result().values[1]}')\n",
    "print(f'|+> | {job2_plus.result().values[0]} | {job2_plus.result().values[1]}')"
   ]
  },
  {
   "attachments": {},
   "cell_type": "markdown",
   "metadata": {},
   "source": [
    "Just as before, we see the $|1\\rangle$ state expectation in the $Z$-basis is $-1$ (corresponding to its eigenvalue) and around zero in the $X$-basis (average over $+1$ and $-1$ eigenvalues), and vice-versa for the $|+\\rangle$ state (although its eigenvalue of the $X$ operators is $+1$)."
   ]
  },
  {
   "attachments": {},
   "cell_type": "markdown",
   "metadata": {},
   "source": [
    "## CHSH Inequality"
   ]
  },
  {
   "cell_type": "code",
   "execution_count": 16,
   "metadata": {},
   "outputs": [],
   "source": [
    "q0_obsvs = [SparsePauliOp('X'), SparsePauliOp('Z')]\n",
    "q1_obsvs = [SparsePauliOp(['X', 'Z'], coeffs=[1., -1.]), SparsePauliOp(['X', 'Z'], coeffs=[1., 1.])]"
   ]
  },
  {
   "cell_type": "code",
   "execution_count": 17,
   "metadata": {},
   "outputs": [],
   "source": [
    "obsvs = [q0_obsvs[0].tensor(q1_obsvs[0]) + q0_obsvs[1].tensor(q1_obsvs[1]),\n",
    "         q0_obsvs[0].tensor(q1_obsvs[1]) - q0_obsvs[1].tensor(q1_obsvs[0])]\n",
    "        #  q0_obsvs[1].tensor(q1_obsvs[0]) + q0_obsvs[0].tensor(q1_obsvs[1]),\n",
    "        #  q0_obsvs[1].tensor(q1_obsvs[1]) - q0_obsvs[0].tensor(q1_obsvs[0]),]"
   ]
  },
  {
   "cell_type": "code",
   "execution_count": 18,
   "metadata": {},
   "outputs": [
    {
     "data": {
      "text/plain": [
       "[SparsePauliOp(['XX', 'XZ', 'ZX', 'ZZ'],\n",
       "               coeffs=[ 1.+0.j, -1.+0.j,  1.+0.j,  1.+0.j]),\n",
       " SparsePauliOp(['XX', 'XZ', 'ZX', 'ZZ'],\n",
       "               coeffs=[ 1.+0.j,  1.+0.j, -1.+0.j,  1.-0.j])]"
      ]
     },
     "execution_count": 18,
     "metadata": {},
     "output_type": "execute_result"
    }
   ],
   "source": [
    "obsvs"
   ]
  },
  {
   "cell_type": "code",
   "execution_count": 19,
   "metadata": {},
   "outputs": [
    {
     "data": {
      "image/png": "[encoded data removed]",
      "text/plain": [
       "<Figure size 287.294x200.667 with 1 Axes>"
      ]
     },
     "execution_count": 19,
     "metadata": {},
     "output_type": "execute_result"
    }
   ],
   "source": [
    "qc1 = QuantumCircuit(2)\n",
    "qc1.h(0)\n",
    "qc1.cx(0, 1)\n",
    "qc1.draw('mpl')"
   ]
  },
  {
   "cell_type": "code",
   "execution_count": 20,
   "metadata": {},
   "outputs": [
    {
     "data": {
      "image/png": "[encoded data removed]",
      "text/plain": [
       "<Figure size 370.906x200.667 with 1 Axes>"
      ]
     },
     "execution_count": 20,
     "metadata": {},
     "output_type": "execute_result"
    }
   ],
   "source": [
    "from qiskit.qasm import pi\n",
    "\n",
    "qc2 = QuantumCircuit(2)\n",
    "qc2.h(0)\n",
    "qc2.cx(0, 1)\n",
    "qc2.ry(pi/4, 0)\n",
    "qc2.draw('mpl')"
   ]
  },
  {
   "cell_type": "code",
   "execution_count": 21,
   "metadata": {},
   "outputs": [
    {
     "ename": "NameError",
     "evalue": "name 'qcs' is not defined",
     "output_type": "error",
     "traceback": [
      "\u001b[0;31m---------------------------------------------------------------------------\u001b[0m",
      "\u001b[0;31mNameError\u001b[0m                                 Traceback (most recent call last)",
      "Cell \u001b[0;32mIn[21], line 1\u001b[0m\n\u001b[0;32m----> 1\u001b[0m qcs\n",
      "\u001b[0;31mNameError\u001b[0m: name 'qcs' is not defined"
     ]
    }
   ],
   "source": [
    "qcs"
   ]
  },
  {
   "cell_type": "code",
   "execution_count": 22,
   "metadata": {},
   "outputs": [],
   "source": [
    "from qiskit_ibm_runtime import Options\n",
    "\n",
    "options = Options()\n",
    "options.execution.shots = int(1e5)\n",
    "\n",
    "# qcs = [qc1, qc2]\n",
    "\n",
    "with Session(service=service, backend=backend) as session:\n",
    "    estimator = Estimator(options=options)\n",
    "    job = estimator.run([qc1]*len(obsvs), observables=obsvs)"
   ]
  },
  {
   "cell_type": "code",
   "execution_count": 23,
   "metadata": {},
   "outputs": [
    {
     "data": {
      "text/plain": [
       "EstimatorResult(values=array([2.00096, 1.99616]), metadata=[{'variance': 1.999997292, 'shots': 100000}, {'variance': 1.9999618944000002, 'shots': 100000}])"
      ]
     },
     "execution_count": 23,
     "metadata": {},
     "output_type": "execute_result"
    }
   ],
   "source": [
    "job.result()"
   ]
  },
  {
   "attachments": {},
   "cell_type": "markdown",
   "metadata": {},
   "source": [
    "# Teleportation\n",
    "\n",
    "Quantum information cannot be copied due to the *No Cloning Theorem*, however it can be \"teleported\" in the sense that a qubit can be entangled with a quantum resource, and via a protocol of measurements and *classical communication* of their results, the original quantum state can be reconstructed on a different qubit. This process destroys the information in the original qubit via measurement.\n",
    "\n",
    "In this exercise, we will construct a particular qubit state and then transfer that state to another qubit using the teleportation protocol."
   ]
  },
  {
   "cell_type": "code",
   "execution_count": 33,
   "metadata": {},
   "outputs": [],
   "source": [
    "from qiskit.circuit import ClassicalRegister, Parameter, QuantumRegister\n",
    "from qiskit.qasm import pi"
   ]
  },
  {
   "attachments": {},
   "cell_type": "markdown",
   "metadata": {},
   "source": [
    "Create the circuit (TODO: consider adding classical registers as necessary)"
   ]
  },
  {
   "cell_type": "code",
   "execution_count": 107,
   "metadata": {},
   "outputs": [
    {
     "data": {
      "image/png": "[encoded data removed]",
      "text/plain": [
       "<Figure size 185.453x117.056 with 1 Axes>"
      ]
     },
     "execution_count": 107,
     "metadata": {},
     "output_type": "execute_result"
    }
   ],
   "source": [
    "theta = Parameter('θ')\n",
    "\n",
    "qr = QuantumRegister(1, 'q')\n",
    "qc = QuantumCircuit(qr)\n",
    "qc.ry(theta, 0)\n",
    "qc.draw('mpl')"
   ]
  },
  {
   "cell_type": "code",
   "execution_count": 108,
   "metadata": {},
   "outputs": [],
   "source": [
    "# qr = QuantumRegister(3, 'q')\n",
    "# alice = ClassicalRegister(2, 'alice')\n",
    "# bob = ClassicalRegister(1, 'bob')\n",
    "# qc = QuantumCircuit(qr, alice, bob)"
   ]
  },
  {
   "attachments": {},
   "cell_type": "markdown",
   "metadata": {},
   "source": [
    "Define an angle $\\theta$ to rotate our qubit by. This will allow us to easily make comparisons when we are done constructing the circuits."
   ]
  },
  {
   "attachments": {},
   "cell_type": "markdown",
   "metadata": {},
   "source": [
    "Alice possesses the quantum information and wishes to transfer it to Bob. The resource they share is a special entangled state called a Bell state\n",
    "$$\n",
    "|\\Psi^+\\rangle = \\frac{1}{2} \\left( |00\\rangle + |11\\rangle \\right)\n",
    "$$\n",
    "with the first of the pair going to Alice and the second to Bob. Hence Alice has a 2-qubit register and Bob has a single-qubit register."
   ]
  },
  {
   "cell_type": "code",
   "execution_count": 109,
   "metadata": {},
   "outputs": [
    {
     "data": {
      "image/png": "[encoded data removed]",
      "text/plain": [
       "<Figure size 239.337x451.5 with 1 Axes>"
      ]
     },
     "execution_count": 109,
     "metadata": {},
     "output_type": "execute_result"
    }
   ],
   "source": [
    "tele_qc = qc.copy()\n",
    "bell = QuantumRegister(2, 'Bell')\n",
    "alice = ClassicalRegister(2, 'Alice')\n",
    "bob = ClassicalRegister(1, 'Bob')\n",
    "tele_qc.add_register(bell, alice, bob)\n",
    "tele_qc.draw('mpl')"
   ]
  },
  {
   "cell_type": "code",
   "execution_count": 110,
   "metadata": {},
   "outputs": [
    {
     "data": {
      "text/plain": [
       "<qiskit.circuit.instructionset.InstructionSet at 0x28a35c0a0>"
      ]
     },
     "execution_count": 110,
     "metadata": {},
     "output_type": "execute_result"
    }
   ],
   "source": [
    "# create Bell state with other two qubits\n",
    "tele_qc.barrier()\n",
    "tele_qc.h(1)\n",
    "tele_qc.cx(1, 2)\n",
    "tele_qc.barrier()\n",
    "# tele_qc.draw('mpl')"
   ]
  },
  {
   "cell_type": "code",
   "execution_count": 111,
   "metadata": {},
   "outputs": [
    {
     "data": {
      "text/plain": [
       "<qiskit.circuit.instructionset.InstructionSet at 0x28a3b1270>"
      ]
     },
     "execution_count": 111,
     "metadata": {},
     "output_type": "execute_result"
    }
   ],
   "source": [
    "# alice operates on her qubits\n",
    "tele_qc.cx(0, 1)\n",
    "tele_qc.h(0)\n",
    "tele_qc.barrier()\n",
    "# tele_qc.draw('mpl')"
   ]
  },
  {
   "cell_type": "code",
   "execution_count": 112,
   "metadata": {},
   "outputs": [
    {
     "data": {
      "text/plain": [
       "<qiskit.circuit.instructionset.InstructionSet at 0x288a70430>"
      ]
     },
     "execution_count": 112,
     "metadata": {},
     "output_type": "execute_result"
    }
   ],
   "source": [
    "# alice measures her qubits\n",
    "tele_qc.measure([qr[0], bell[0]], alice)\n",
    "# tele_qc.draw('mpl')"
   ]
  },
  {
   "cell_type": "code",
   "execution_count": 121,
   "metadata": {},
   "outputs": [
    {
     "data": {
      "text/plain": [
       "qiskit.circuit.classicalregister.ClassicalRegister"
      ]
     },
     "execution_count": 121,
     "metadata": {},
     "output_type": "execute_result"
    }
   ],
   "source": [
    "type(alice)"
   ]
  },
  {
   "cell_type": "code",
   "execution_count": 113,
   "metadata": {},
   "outputs": [
    {
     "data": {
      "image/png": "[encoded data removed]",
      "text/plain": [
       "<Figure size 1159.06x451.5 with 1 Axes>"
      ]
     },
     "execution_count": 113,
     "metadata": {},
     "output_type": "execute_result"
    }
   ],
   "source": [
    "tele_qc.x(2).c_if(alice[1], 1)\n",
    "# with tele_qc.if_test((alice[1], 1)):\n",
    "#     tele_qc.x(2)\n",
    "tele_qc.z(2).c_if(alice[0], 1)\n",
    "# with tele_qc.if_test((alice[0], 1)):\n",
    "#     tele_qc.z(2)\n",
    "    \n",
    "tele_qc.draw('mpl')"
   ]
  },
  {
   "cell_type": "code",
   "execution_count": 114,
   "metadata": {},
   "outputs": [
    {
     "data": {
      "image/png": "[encoded data removed]",
      "text/plain": [
       "<Figure size 1326.28x451.5 with 1 Axes>"
      ]
     },
     "execution_count": 114,
     "metadata": {},
     "output_type": "execute_result"
    }
   ],
   "source": [
    "tele_qc.barrier()\n",
    "tele_qc.measure(bell[1], bob)\n",
    "tele_qc.draw('mpl')"
   ]
  },
  {
   "cell_type": "code",
   "execution_count": 86,
   "metadata": {},
   "outputs": [],
   "source": [
    "angle = 5*pi/7\n",
    "\n",
    "qc.measure_all()\n",
    "job_static = service.run(program_id='circuit-runner',\n",
    "\toptions={'backend': backend.name},\n",
    "\tinputs={'circuits': qc.bind_parameters({theta: angle}), 'dynamic': False},\n",
    ")"
   ]
  },
  {
   "cell_type": "code",
   "execution_count": 88,
   "metadata": {},
   "outputs": [
    {
     "data": {
      "text/plain": [
       "Result(backend_name='qasm_simulator', backend_version='0.12.0', qobj_id='', job_id='5f793653-7956-403a-b6d3-86e80f5d9f2f', success=True, results=[ExperimentResult(shots=1024, success=True, meas_level=2, data=ExperimentResultData(counts={'0x0': 222, '0x1': 802}), header=QobjExperimentHeader(creg_sizes=[['meas', 1]], global_phase=0.0, memory_slots=1, metadata=None, n_qubits=1, name='circuit-145', qreg_sizes=[['q', 1]]), status=DONE, seed_simulator=858932814, metadata={'parallel_state_update': 16, 'sample_measure_time': 0.000380904, 'noise': 'ideal', 'batched_shots_optimization': False, 'measure_sampling': True, 'device': 'CPU', 'num_qubits': 1, 'parallel_shots': 1, 'remapped_qubits': False, 'method': 'statevector', 'active_input_qubits': [0], 'num_clbits': 1, 'input_qubit_map': [[0, 0]], 'fusion': {'applied': False, 'max_fused_qubits': 5, 'enabled': True, 'threshold': 14}}, time_taken=0.002402994)], date=2023-06-06T00:16:23.243668, status=COMPLETED, header=None, metadata={'time_taken_execute': 0.00250775, 'mpi_rank': 0, 'parallel_experiments': 1, 'omp_enabled': True, 'max_gpu_memory_mb': 0, 'num_processes_per_experiments': 1, 'num_mpi_processes': 1, 'max_memory_mb': 64110}, time_taken=0.0031316280364990234)"
      ]
     },
     "execution_count": 88,
     "metadata": {},
     "output_type": "execute_result"
    }
   ],
   "source": [
    "job_static.result()"
   ]
  },
  {
   "cell_type": "code",
   "execution_count": 115,
   "metadata": {},
   "outputs": [],
   "source": [
    "job_dynamic = service.run(program_id='circuit-runner',\n",
    "\toptions={'backend': backend.name},\n",
    "\tinputs={'circuits': tele_qc.bind_parameters({theta: angle}), 'dynamic': True},\n",
    ")"
   ]
  },
  {
   "cell_type": "code",
   "execution_count": 116,
   "metadata": {},
   "outputs": [
    {
     "ename": "RuntimeJobFailureError",
     "evalue": "'Unable to retrieve job result. QASMERROR: \"OPENQASM 2 CAN ONLY CONDITION ON REGISTERS, BUT GOT \\'{SELF.CONDITION[0]}\\'\"'",
     "output_type": "error",
     "traceback": [
      "\u001b[0;31m---------------------------------------------------------------------------\u001b[0m",
      "\u001b[0;31mRuntimeJobFailureError\u001b[0m                    Traceback (most recent call last)",
      "Cell \u001b[0;32mIn[116], line 1\u001b[0m\n\u001b[0;32m----> 1\u001b[0m job_dynamic\u001b[39m.\u001b[39;49mresult()\n",
      "File \u001b[0;32m/opt/anaconda3/envs/qiskit-runtime/lib/python3.10/site-packages/qiskit_ibm_runtime/runtime_job.py:227\u001b[0m, in \u001b[0;36mRuntimeJob.result\u001b[0;34m(self, timeout, decoder)\u001b[0m\n\u001b[1;32m    225\u001b[0m     \u001b[39mif\u001b[39;00m \u001b[39mself\u001b[39m\u001b[39m.\u001b[39m_reason \u001b[39m==\u001b[39m \u001b[39m\"\u001b[39m\u001b[39mRAN TOO LONG\u001b[39m\u001b[39m\"\u001b[39m:\n\u001b[1;32m    226\u001b[0m         \u001b[39mraise\u001b[39;00m RuntimeJobMaxTimeoutError(error_message)\n\u001b[0;32m--> 227\u001b[0m     \u001b[39mraise\u001b[39;00m RuntimeJobFailureError(\n\u001b[1;32m    228\u001b[0m         \u001b[39mf\u001b[39m\u001b[39m\"\u001b[39m\u001b[39mUnable to retrieve job result. \u001b[39m\u001b[39m\"\u001b[39m \u001b[39mf\u001b[39m\u001b[39m\"\u001b[39m\u001b[39m{\u001b[39;00merror_message\u001b[39m}\u001b[39;00m\u001b[39m\"\u001b[39m\n\u001b[1;32m    229\u001b[0m     )\n\u001b[1;32m    231\u001b[0m result_raw \u001b[39m=\u001b[39m \u001b[39mself\u001b[39m\u001b[39m.\u001b[39m_download_external_result(\n\u001b[1;32m    232\u001b[0m     \u001b[39mself\u001b[39m\u001b[39m.\u001b[39m_api_client\u001b[39m.\u001b[39mjob_results(job_id\u001b[39m=\u001b[39m\u001b[39mself\u001b[39m\u001b[39m.\u001b[39mjob_id())\n\u001b[1;32m    233\u001b[0m )\n\u001b[1;32m    235\u001b[0m \u001b[39mself\u001b[39m\u001b[39m.\u001b[39m_results \u001b[39m=\u001b[39m _decoder\u001b[39m.\u001b[39mdecode(result_raw) \u001b[39mif\u001b[39;00m result_raw \u001b[39melse\u001b[39;00m \u001b[39mNone\u001b[39;00m\n",
      "\u001b[0;31mRuntimeJobFailureError\u001b[0m: 'Unable to retrieve job result. QASMERROR: \"OPENQASM 2 CAN ONLY CONDITION ON REGISTERS, BUT GOT \\'{SELF.CONDITION[0]}\\'\"'"
     ]
    }
   ],
   "source": [
    "job_dynamic.result()"
   ]
  },
  {
   "cell_type": "code",
   "execution_count": 118,
   "metadata": {},
   "outputs": [
    {
     "ename": "QasmError",
     "evalue": "\"OpenQASM 2 can only condition on registers, but got '{self.condition[0]}'\"",
     "output_type": "error",
     "traceback": [
      "\u001b[0;31m---------------------------------------------------------------------------\u001b[0m",
      "\u001b[0;31mQasmError\u001b[0m                                 Traceback (most recent call last)",
      "Cell \u001b[0;32mIn[118], line 1\u001b[0m\n\u001b[0;32m----> 1\u001b[0m tele_qc\u001b[39m.\u001b[39;49mbind_parameters({theta: angle})\u001b[39m.\u001b[39;49mqasm()\n",
      "File \u001b[0;32m/opt/anaconda3/envs/qiskit-runtime/lib/python3.10/site-packages/qiskit/circuit/quantumcircuit.py:1732\u001b[0m, in \u001b[0;36mQuantumCircuit.qasm\u001b[0;34m(self, formatted, filename, encoding)\u001b[0m\n\u001b[1;32m   1728\u001b[0m         \u001b[39m# Insert qasm representation of the original instruction\u001b[39;00m\n\u001b[1;32m   1729\u001b[0m         bits_qasm \u001b[39m=\u001b[39m \u001b[39m\"\u001b[39m\u001b[39m,\u001b[39m\u001b[39m\"\u001b[39m\u001b[39m.\u001b[39mjoin(\n\u001b[1;32m   1730\u001b[0m             bit_labels[j] \u001b[39mfor\u001b[39;00m j \u001b[39min\u001b[39;00m itertools\u001b[39m.\u001b[39mchain(instruction\u001b[39m.\u001b[39mqubits, instruction\u001b[39m.\u001b[39mclbits)\n\u001b[1;32m   1731\u001b[0m         )\n\u001b[0;32m-> 1732\u001b[0m         instruction_qasm \u001b[39m=\u001b[39m \u001b[39mf\u001b[39m\u001b[39m\"\u001b[39m\u001b[39m{\u001b[39;00moperation\u001b[39m.\u001b[39;49mqasm()\u001b[39m}\u001b[39;00m\u001b[39m \u001b[39m\u001b[39m{\u001b[39;00mbits_qasm\u001b[39m}\u001b[39;00m\u001b[39m;\u001b[39m\u001b[39m\"\u001b[39m\n\u001b[1;32m   1733\u001b[0m     instruction_calls\u001b[39m.\u001b[39mappend(instruction_qasm)\n\u001b[1;32m   1734\u001b[0m instructions_qasm \u001b[39m=\u001b[39m \u001b[39m\"\u001b[39m\u001b[39m\"\u001b[39m\u001b[39m.\u001b[39mjoin(\u001b[39mf\u001b[39m\u001b[39m\"\u001b[39m\u001b[39m{\u001b[39;00mcall\u001b[39m}\u001b[39;00m\u001b[39m\\n\u001b[39;00m\u001b[39m\"\u001b[39m \u001b[39mfor\u001b[39;00m call \u001b[39min\u001b[39;00m instruction_calls)\n",
      "File \u001b[0;32m/opt/anaconda3/envs/qiskit-runtime/lib/python3.10/site-packages/qiskit/circuit/instruction.py:462\u001b[0m, in \u001b[0;36mInstruction.qasm\u001b[0;34m(self)\u001b[0m\n\u001b[1;32m    456\u001b[0m \u001b[39mif\u001b[39;00m \u001b[39mself\u001b[39m\u001b[39m.\u001b[39mparams:\n\u001b[1;32m    457\u001b[0m     name_param \u001b[39m=\u001b[39m \u001b[39m\"\u001b[39m\u001b[39m{}\u001b[39;00m\u001b[39m(\u001b[39m\u001b[39m{}\u001b[39;00m\u001b[39m)\u001b[39m\u001b[39m\"\u001b[39m\u001b[39m.\u001b[39mformat(\n\u001b[1;32m    458\u001b[0m         name_param,\n\u001b[1;32m    459\u001b[0m         \u001b[39m\"\u001b[39m\u001b[39m,\u001b[39m\u001b[39m\"\u001b[39m\u001b[39m.\u001b[39mjoin([pi_check(i, output\u001b[39m=\u001b[39m\u001b[39m\"\u001b[39m\u001b[39mqasm\u001b[39m\u001b[39m\"\u001b[39m, eps\u001b[39m=\u001b[39m\u001b[39m1e-12\u001b[39m) \u001b[39mfor\u001b[39;00m i \u001b[39min\u001b[39;00m \u001b[39mself\u001b[39m\u001b[39m.\u001b[39mparams]),\n\u001b[1;32m    460\u001b[0m     )\n\u001b[0;32m--> 462\u001b[0m \u001b[39mreturn\u001b[39;00m \u001b[39mself\u001b[39;49m\u001b[39m.\u001b[39;49m_qasmif(name_param)\n",
      "File \u001b[0;32m/opt/anaconda3/envs/qiskit-runtime/lib/python3.10/site-packages/qiskit/circuit/instruction.py:444\u001b[0m, in \u001b[0;36mInstruction._qasmif\u001b[0;34m(self, string)\u001b[0m\n\u001b[1;32m    442\u001b[0m     \u001b[39mreturn\u001b[39;00m string\n\u001b[1;32m    443\u001b[0m \u001b[39mif\u001b[39;00m \u001b[39mnot\u001b[39;00m \u001b[39misinstance\u001b[39m(\u001b[39mself\u001b[39m\u001b[39m.\u001b[39mcondition[\u001b[39m0\u001b[39m], ClassicalRegister):\n\u001b[0;32m--> 444\u001b[0m     \u001b[39mraise\u001b[39;00m QasmError(\n\u001b[1;32m    445\u001b[0m         \u001b[39m\"\u001b[39m\u001b[39mOpenQASM 2 can only condition on registers, but got \u001b[39m\u001b[39m'\u001b[39m\u001b[39m{self.condition[0]}\u001b[39;00m\u001b[39m'\u001b[39m\u001b[39m\"\u001b[39m\n\u001b[1;32m    446\u001b[0m     )\n\u001b[1;32m    447\u001b[0m \u001b[39mreturn\u001b[39;00m \u001b[39m\"\u001b[39m\u001b[39mif(\u001b[39m\u001b[39m%s\u001b[39;00m\u001b[39m==\u001b[39m\u001b[39m%d\u001b[39;00m\u001b[39m) \u001b[39m\u001b[39m\"\u001b[39m \u001b[39m%\u001b[39m (\u001b[39mself\u001b[39m\u001b[39m.\u001b[39mcondition[\u001b[39m0\u001b[39m]\u001b[39m.\u001b[39mname, \u001b[39mself\u001b[39m\u001b[39m.\u001b[39mcondition[\u001b[39m1\u001b[39m]) \u001b[39m+\u001b[39m string\n",
      "\u001b[0;31mQasmError\u001b[0m: \"OpenQASM 2 can only condition on registers, but got '{self.condition[0]}'\""
     ]
    }
   ],
   "source": [
    "tele_qc.bind_parameters({theta: angle}).qasm()"
   ]
  },
  {
   "cell_type": "code",
   "execution_count": null,
   "metadata": {},
   "outputs": [],
   "source": []
  }
 ],
 "metadata": {
  "kernelspec": {
   "display_name": "qiskit-runtime",
   "language": "python",
   "name": "python3"
  },
  "language_info": {
   "codemirror_mode": {
    "name": "ipython",
    "version": 3
   },
   "file_extension": ".py",
   "mimetype": "text/x-python",
   "name": "python",
   "nbconvert_exporter": "python",
   "pygments_lexer": "ipython3",
   "version": "3.10.9"
  },
  "orig_nbformat": 4
 },
 "nbformat": 4,
 "nbformat_minor": 2
}
